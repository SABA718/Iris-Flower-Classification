{
 "cells": [
  {
   "cell_type": "code",
   "execution_count": 31,
   "id": "e79a47b9-c2b0-4746-ac07-1f96e695f8df",
   "metadata": {},
   "outputs": [],
   "source": [
    "#Imports Libraries\n",
    "import pandas as pd\n",
    "import numpy as np\n",
    "import matplotlib.pyplot as plt\n",
    "import seaborn as sns"
   ]
  },
  {
   "cell_type": "code",
   "execution_count": 32,
   "id": "f7b16710-6a35-4c50-8324-2a43de9bdf7b",
   "metadata": {},
   "outputs": [],
   "source": [
    "#Loads Iris Dataset\n",
    "from sklearn.datasets import load_iris\n",
    "iris = load_iris()\n",
    "X = iris.data\n",
    "y = iris.target\n",
    "target_names = iris.target_names\n",
    "\n",
    "#Prepares DataFrame\n",
    "df = pd.DataFrame(data=iris.data,columns=iris.feature_names)\n",
    "df['Target'] = iris.target"
   ]
  },
  {
   "cell_type": "code",
   "execution_count": 33,
   "id": "2e1d4def-0285-4630-8ac2-005cbe0497ce",
   "metadata": {},
   "outputs": [
    {
     "name": "stdout",
     "output_type": "stream",
     "text": [
      "   sepal length (cm)  sepal width (cm)  petal length (cm)  petal width (cm)  \\\n",
      "0                5.1               3.5                1.4               0.2   \n",
      "1                4.9               3.0                1.4               0.2   \n",
      "2                4.7               3.2                1.3               0.2   \n",
      "3                4.6               3.1                1.5               0.2   \n",
      "4                5.0               3.6                1.4               0.2   \n",
      "\n",
      "   Target  \n",
      "0       0  \n",
      "1       0  \n",
      "2       0  \n",
      "3       0  \n",
      "4       0  \n",
      "<class 'pandas.core.frame.DataFrame'>\n",
      "RangeIndex: 150 entries, 0 to 149\n",
      "Data columns (total 5 columns):\n",
      " #   Column             Non-Null Count  Dtype  \n",
      "---  ------             --------------  -----  \n",
      " 0   sepal length (cm)  150 non-null    float64\n",
      " 1   sepal width (cm)   150 non-null    float64\n",
      " 2   petal length (cm)  150 non-null    float64\n",
      " 3   petal width (cm)   150 non-null    float64\n",
      " 4   Target             150 non-null    int64  \n",
      "dtypes: float64(4), int64(1)\n",
      "memory usage: 6.0 KB\n",
      "None\n",
      "       sepal length (cm)  sepal width (cm)  petal length (cm)  \\\n",
      "count         150.000000        150.000000         150.000000   \n",
      "mean            5.843333          3.057333           3.758000   \n",
      "std             0.828066          0.435866           1.765298   \n",
      "min             4.300000          2.000000           1.000000   \n",
      "25%             5.100000          2.800000           1.600000   \n",
      "50%             5.800000          3.000000           4.350000   \n",
      "75%             6.400000          3.300000           5.100000   \n",
      "max             7.900000          4.400000           6.900000   \n",
      "\n",
      "       petal width (cm)      Target  \n",
      "count        150.000000  150.000000  \n",
      "mean           1.199333    1.000000  \n",
      "std            0.762238    0.819232  \n",
      "min            0.100000    0.000000  \n",
      "25%            0.300000    0.000000  \n",
      "50%            1.300000    1.000000  \n",
      "75%            1.800000    2.000000  \n",
      "max            2.500000    2.000000  \n"
     ]
    }
   ],
   "source": [
    "#Explore the Data\n",
    "print(df.head())\n",
    "print(df.info())\n",
    "print(df.describe())"
   ]
  },
  {
   "cell_type": "code",
   "execution_count": 34,
   "id": "943a43ea-ff50-4f66-8d0a-a3e1d510e6b1",
   "metadata": {},
   "outputs": [],
   "source": [
    "#Train-Test Split\n",
    "import pandas as pd\n",
    "from sklearn.model_selection import train_test_split\n",
    "X = df.drop('Target', axis=1) \n",
    "y = df['Target']  \n",
    "X_train, X_test, y_train, y_test = train_test_split(X, y, test_size=0.2, random_state=42)"
   ]
  },
  {
   "cell_type": "code",
   "execution_count": 35,
   "id": "55ff2950-b04f-460f-bf23-10103dd25370",
   "metadata": {},
   "outputs": [],
   "source": [
    "#Model Training (KNN)\n",
    "import pandas as pd\n",
    "from sklearn.model_selection import train_test_split\n",
    "from sklearn.preprocessing import StandardScaler\n",
    "from sklearn.neighbors import KNeighborsClassifier\n",
    "from sklearn.tree import DecisionTreeClassifier\n",
    "\n",
    "#KNN\n",
    "scaler = StandardScaler()\n",
    "X_train_scaled = scaler.fit_transform(X_train)\n",
    "X_test_scaled = scaler.transform(X_test)\n",
    "knn = KNeighborsClassifier(n_neighbors=3)\n",
    "knn.fit(X_train_scaled, y_train)\n",
    "\n",
    "#DecisionTree\n",
    "dtree = DecisionTreeClassifier(random_state=42)\n",
    "dtree.fit(X_train, y_train)\n",
    "\n",
    "#Prediction\n",
    "knn_preds = knn.predict(X_test_scaled)  \n",
    "dtree_preds = dtree.predict(X_test)\n"
   ]
  },
  {
   "cell_type": "code",
   "execution_count": 36,
   "id": "2857eb75-4258-4e40-8723-5fe31fba4ef5",
   "metadata": {},
   "outputs": [
    {
     "name": "stdout",
     "output_type": "stream",
     "text": [
      "KNN Accuracy: 1.0\n",
      "Decision Tree Accuracy: 1.0\n",
      "Actual labels: 73     1\n",
      "18     0\n",
      "118    2\n",
      "78     1\n",
      "76     1\n",
      "31     0\n",
      "64     1\n",
      "141    2\n",
      "68     1\n",
      "82     1\n",
      "110    2\n",
      "12     0\n",
      "36     0\n",
      "9      0\n",
      "19     0\n",
      "56     1\n",
      "104    2\n",
      "69     1\n",
      "55     1\n",
      "132    2\n",
      "29     0\n",
      "127    2\n",
      "26     0\n",
      "128    2\n",
      "131    2\n",
      "145    2\n",
      "108    2\n",
      "143    2\n",
      "45     0\n",
      "30     0\n",
      "Name: Target, dtype: int64\n",
      "Confusion Matrix for KNN:\n",
      " [[10  0  0]\n",
      " [ 0  9  0]\n",
      " [ 0  0 11]]\n",
      "Classification Report for KNN:\n",
      "               precision    recall  f1-score   support\n",
      "\n",
      "           0       1.00      1.00      1.00        10\n",
      "           1       1.00      1.00      1.00         9\n",
      "           2       1.00      1.00      1.00        11\n",
      "\n",
      "    accuracy                           1.00        30\n",
      "   macro avg       1.00      1.00      1.00        30\n",
      "weighted avg       1.00      1.00      1.00        30\n",
      "\n",
      "Confusion Matrix for DTREE:\n",
      " [[10  0  0]\n",
      " [ 0  9  0]\n",
      " [ 0  0 11]]\n",
      "Classification Report for DTREE:\n",
      "               precision    recall  f1-score   support\n",
      "\n",
      "           0       1.00      1.00      1.00        10\n",
      "           1       1.00      1.00      1.00         9\n",
      "           2       1.00      1.00      1.00        11\n",
      "\n",
      "    accuracy                           1.00        30\n",
      "   macro avg       1.00      1.00      1.00        30\n",
      "weighted avg       1.00      1.00      1.00        30\n",
      "\n"
     ]
    }
   ],
   "source": [
    "#Evaluation\n",
    "from sklearn.metrics import accuracy_score, classification_report, confusion_matrix\n",
    "print(\"KNN Accuracy:\", accuracy_score(y_test, knn_preds))\n",
    "print(\"Decision Tree Accuracy:\", accuracy_score(y_test, dtree_preds))\n",
    "print(\"Actual labels:\", y_test)\n",
    "print(\"Confusion Matrix for KNN:\\n\", confusion_matrix(y_test, knn_preds))\n",
    "print(\"Classification Report for KNN:\\n\", classification_report(y_test, knn_preds))\n",
    "print(\"Confusion Matrix for DTREE:\\n\", confusion_matrix(y_test, dtree_preds))\n",
    "print(\"Classification Report for DTREE:\\n\", classification_report(y_test, dtree_preds))\n"
   ]
  },
  {
   "cell_type": "code",
   "execution_count": 37,
   "id": "f7d9dad8-aa2f-4798-bc91-dbdefde4cb5a",
   "metadata": {},
   "outputs": [
    {
     "data": {
      "image/png": "[encoded data removed]",
      "text/plain": [
       "<Figure size 600x400 with 2 Axes>"
      ]
     },
     "metadata": {},
     "output_type": "display_data"
    },
    {
     "data": {
      "image/png": "[encoded data removed]",
      "text/plain": [
       "<Figure size 600x400 with 2 Axes>"
      ]
     },
     "metadata": {},
     "output_type": "display_data"
    }
   ],
   "source": [
    "#Heatmap Visualization\n",
    "import matplotlib.pyplot as plt\n",
    "import seaborn as sns\n",
    "cm1 = confusion_matrix(y_test, knn_preds)\n",
    "plt.figure(figsize=(6, 4))\n",
    "sns.heatmap(cm,annot=True, fmt='d', cmap='YlGnBu',\n",
    "            xticklabels=target_names, yticklabels=target_names,\n",
    "            linewidths=1,     \n",
    "            linecolor='black')\n",
    "plt.title(\"Confusion Matrix - KNN on Iris\")\n",
    "plt.xlabel(\"Predicted Label\")\n",
    "plt.ylabel(\"True Label\")\n",
    "plt.show()\n",
    "cm2 = confusion_matrix(y_test, dtree_preds)\n",
    "plt.figure(figsize=(6, 4))\n",
    "sns.heatmap(cm,annot=True, fmt='d', cmap='YlGnBu',\n",
    "            xticklabels=target_names, yticklabels=target_names,\n",
    "            linewidths=1,     \n",
    "            linecolor='black')\n",
    "plt.title(\"Confusion Matrix - DTREE on Iris\")\n",
    "plt.xlabel(\"Predicted Label\")\n",
    "plt.ylabel(\"True Label\")\n",
    "plt.show()\n"
   ]
  },
  {
   "cell_type": "code",
   "execution_count": null,
   "id": "ed7e5c38-b588-4d27-b96f-56a305a85fdf",
   "metadata": {},
   "outputs": [],
   "source": []
  }
 ],
 "metadata": {
  "kernelspec": {
   "display_name": "Python 3 (ipykernel)",
   "language": "python",
   "name": "python3"
  },
  "language_info": {
   "codemirror_mode": {
    "name": "ipython",
    "version": 3
   },
   "file_extension": ".py",
   "mimetype": "text/x-python",
   "name": "python",
   "nbconvert_exporter": "python",
   "pygments_lexer": "ipython3",
   "version": "3.13.5"
  }
 },
 "nbformat": 4,
 "nbformat_minor": 5
}
